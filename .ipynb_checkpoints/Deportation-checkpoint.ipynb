{
 "cells": [
  {
   "cell_type": "markdown",
   "metadata": {},
   "source": [
    "# Deportation Paper\n"
   ]
  },
  {
   "cell_type": "code",
   "execution_count": 1,
   "metadata": {
    "code_folding": [
     0
    ]
   },
   "outputs": [],
   "source": [
    "#Packages\n",
    "import pandas as pd\n",
    "import numpy as np\n",
    "import pylab\n",
    "from matplotlib import pyplot as plt\n",
    "import statsmodels.formula.api as smf\n",
    "import scipy.stats as st\n",
    "\n",
    "%matplotlib inline\n",
    "\n",
    "# Matplotlib customizations.\n",
    "# plt.style.use(\"ggplot\")                       # Use a different style.\n",
    "plt.rcParams[\"figure.figsize\"] = [10.0, 6.0]  # Make figures larger by default.\n",
    "plt.rcParams[\"figure.dpi\"] = 200              # Raise figure quality within the notebook.\n",
    "\n",
    "# Pandas customizations.\n",
    "pd.set_option(\"display.max_rows\", 250)        # Raise the number of rows displayed.\n",
    "pd.set_option(\"display.max_columns\", 50)      # Raise the number of columns displayed.\n",
    "pd.set_option(\"precision\", 3)                 # Truncate floats to 3 decimals in data frames.\n",
    "\n",
    "# font = {'size': 12}\n",
    "\n",
    "# plt.rc('font', **font)"
   ]
  },
  {
   "cell_type": "code",
   "execution_count": 2,
   "metadata": {
    "code_folding": [
     0
    ]
   },
   "outputs": [],
   "source": [
    "#Functions for ttest and ztest\n",
    "# function for calculating the t-test for two independent samples\n",
    "# Cohen's d https://researchpy.readthedocs.io/en/latest/ttest_documentation.html\n",
    "def ttest(data1, data2):\n",
    "    # calculate means\n",
    "    mean1, mean2 = np.mean(data1), np.mean(data2)\n",
    "    # calculate standard errors\n",
    "    s1, s2 = np.std(data1), np.std(data2)\n",
    "    n1, n2 = len(data1), len(data2)\n",
    "    # standard error on the difference between the samples\n",
    "    s = np.sqrt(((n1-1)*s1**2 + (n2-1)*s2**2)/(n1 + n2 - 2))\n",
    "    se = s*np.sqrt((1/n1)+(1/n2))\n",
    "    # calculate the t statistic\n",
    "    t_stat = (mean1 - mean2)/se\n",
    "    # degrees of freedom\n",
    "    df = (((s1**2)/n1)+((s2**2)/n2))/((((s1**2)/n1)/(n1-1))+((((s2**2)/n2)/(n2-1))))\n",
    "    # calculate the p-value\n",
    "    p = (1.0 - st.t.cdf(abs(t_stat), df)) * 2.0\n",
    "    # calculate cohen's d\n",
    "    cohen = t_stat*np.sqrt((1/n1)+(1/n2))\n",
    "#     cohen = (mean1 - mean2)/np.sqrt((((n1-1)*s1**2)+((n2-1)*s2**2))/(n1+n2-2))\n",
    "    # return everything\n",
    "    return t_stat, p, cohen\n",
    "\n",
    "def ztestp(n1, t1, n2, t2):\n",
    "    # calculate proportions\n",
    "    p1, p2 =(n1/t1),(n2/t2)\n",
    "    # calculate total prop\n",
    "    p = (n1 + n2)/(t1 + t2)\n",
    "    # standard error\n",
    "    se = np.sqrt(p*(1-p)*((1/t1)+(1/t2)))\n",
    "    # calculate the t statistic\n",
    "    z_stat = (p1-p2)/se\n",
    "    # calculate the p-value\n",
    "    p = (1.0 - st.norm.cdf(abs(z_stat))) * 2.0\n",
    "    # return everything\n",
    "    return p"
   ]
  },
  {
   "cell_type": "code",
   "execution_count": 3,
   "metadata": {
    "code_folding": [
     0
    ]
   },
   "outputs": [],
   "source": [
    "#Function for Cramer's V (effect size for chi-squared) See: https://www.ncbi.nlm.nih.gov/pmc/articles/PMC5426219/\n",
    "def cramer(chi, n, df):\n",
    "# chi = test statistic, n = number of observations, df = degrees of freedom = (rows - 1)(columns - 1)\n",
    "    return np.sqrt(chi/(n*df))\n"
   ]
  },
  {
   "cell_type": "code",
   "execution_count": 4,
   "metadata": {
    "code_folding": [
     0
    ],
    "scrolled": true
   },
   "outputs": [],
   "source": [
    "#Read in Data\n",
    "dataH = pd.read_csv('Survey2Data.csv', encoding=\"latin-1\")\n",
    "dataN = pd.read_csv(\"Survey1Data.csv\")"
   ]
  },
  {
   "cell_type": "code",
   "execution_count": 5,
   "metadata": {
    "code_folding": [
     0
    ]
   },
   "outputs": [
    {
     "name": "stdout",
     "output_type": "stream",
     "text": [
      "1080 in Hispanic Sample\n",
      "514 in Other Sample\n"
     ]
    }
   ],
   "source": [
    "#Number in Each Sample\n",
    "print(dataH.shape[0], 'in Hispanic Sample')\n",
    "print(dataN.shape[0], 'in Other Sample')\n"
   ]
  },
  {
   "cell_type": "code",
   "execution_count": 6,
   "metadata": {
    "code_folding": [
     0
    ],
    "scrolled": false
   },
   "outputs": [
    {
     "name": "stdout",
     "output_type": "stream",
     "text": [
      "\tDemographic Characteristics of Other Sample\n",
      "\t\t\t\t Number\t Percent\t\n",
      "Gender\n",
      "Female\t\t\t\t 220 \t 42.8\n",
      "Male\t\t\t\t 294 \t 57.2\n",
      "\n",
      "Education Level\n",
      "High School\t\t\t 50 \t 9.7\n",
      "Some College\t\t\t 171 \t 33.3\n",
      "Bachelor's Degree\t\t 209 \t 40.7\n",
      "Master's Degree\t\t\t 66 \t 12.8\n",
      "Doctoral Degree or Equivalent\t 17 \t 3.3\n",
      "Other\t\t\t\t 1 \t 0.2\n",
      "\n",
      "Race/Ethnicity\n",
      "African American or Black\t 38 \t 7.4\n",
      "Asian\t\t\t\t 37 \t 7.2\n",
      "Caucasian or White\t\t 388 \t 75.5\n",
      "Hispanic or Latino\t\t 32 \t 6.2\n",
      "Native American\t\t\t 9 \t 1.8\n",
      "Pacific Islander\t\t 2 \t 0.4\n",
      "Other\t\t\t\t 8 \t 1.6\n",
      "\n",
      "Vote in 2016 Election\n",
      "Donald Trump\t\t\t 173 \t 33.7\n",
      "Hillary Clinton\t\t\t 194 \t 37.7\n",
      "Other\t\t\t\t 64 \t 12.5\n",
      "Did not vote\t\t\t 83 \t 16.1\n"
     ]
    }
   ],
   "source": [
    "#Demographic Characteristics of Survey 1\n",
    "print('\\tDemographic Characteristics of Other Sample')\n",
    "print('\\t\\t\\t\\t', \"Number\\t\", \"Percent\\t\")\n",
    "Ntotal = dataN.shape[0]/100\n",
    "print('Gender')\n",
    "print('Female\\t\\t\\t\\t', dataN[dataN['Q1'] == 'Female'].shape[0], '\\t',round(dataN[dataN['Q1'] == 'Female'].shape[0]/Ntotal,1))\n",
    "print('Male\\t\\t\\t\\t', dataN[dataN['Q1'] == 'Male'].shape[0], '\\t',round(dataN[dataN['Q1'] == 'Male'].shape[0]/Ntotal,1))\n",
    "print('\\nEducation Level')\n",
    "print('High School\\t\\t\\t', dataN[dataN['Q2'] == 'High School'].shape[0], '\\t',round(dataN[dataN['Q2'] == 'High School'].shape[0]/Ntotal,1))\n",
    "print('Some College\\t\\t\\t', dataN[dataN['Q2'] == 'Some College'].shape[0], '\\t',round(dataN[dataN['Q2'] == 'Some College'].shape[0]/Ntotal,1))\n",
    "print('Bachelor\\'s Degree\\t\\t', dataN[dataN['Q2'] == 'Bachelor\\'s Degree'].shape[0], '\\t',round(dataN[dataN['Q2'] == 'Bachelor\\'s Degree'].shape[0]/Ntotal,1))\n",
    "print('Master\\'s Degree\\t\\t\\t', dataN[dataN['Q2'] == 'Master\\'s Degree'].shape[0], '\\t',round(dataN[dataN['Q2'] == 'Master\\'s Degree'].shape[0]/Ntotal,1))\n",
    "print('Doctoral Degree or Equivalent\\t', dataN[dataN['Q2'] == 'Doctoral Degree or Equivalent'].shape[0], '\\t',round(dataN[dataN['Q2'] == 'Doctoral Degree or Equivalent'].shape[0]/Ntotal,1))\n",
    "print('Other\\t\\t\\t\\t', dataN[dataN['Q2'] == 'Other'].shape[0], '\\t',round(dataN[dataN['Q2'] == 'Other'].shape[0]/Ntotal,1))\n",
    "print('\\nRace/Ethnicity')\n",
    "print('African American or Black\\t', dataN[dataN['Q3'] == 'African American or Black'].shape[0], '\\t',round(dataN[dataN['Q3'] == 'African American or Black'].shape[0]/Ntotal,1))\n",
    "print('Asian\\t\\t\\t\\t', dataN[dataN['Q3'] == 'Asian'].shape[0], '\\t',round(dataN[dataN['Q3'] == 'Asian'].shape[0]/Ntotal,1))\n",
    "print('Caucasian or White\\t\\t', dataN[dataN['Q3'] == 'Caucasian or White'].shape[0], '\\t',round(dataN[dataN['Q3'] == 'Caucasian or White'].shape[0]/Ntotal,1))\n",
    "print('Hispanic or Latino\\t\\t', dataN[dataN['Q3'] == 'Hispanic or Latino'].shape[0], '\\t',round(dataN[dataN['Q3'] == 'Hispanic or Latino'].shape[0]/Ntotal,1))\n",
    "print('Native American\\t\\t\\t', dataN[dataN['Q3'] == 'Native American or American Indian'].shape[0], '\\t',round(dataN[dataN['Q3'] == 'Native American or American Indian'].shape[0]/Ntotal,1))\n",
    "print('Pacific Islander\\t\\t', dataN[dataN['Q3'] == 'Pacific Islander'].shape[0], '\\t',round(dataN[dataN['Q3'] == 'Pacific Islander'].shape[0]/Ntotal,1))\n",
    "print('Other\\t\\t\\t\\t', dataN[dataN['Q3'] == 'Other'].shape[0], '\\t',round(dataN[dataN['Q3'] == 'Other'].shape[0]/Ntotal,1))\n",
    "print('\\nVote in 2016 Election')\n",
    "print('Donald Trump\\t\\t\\t', dataN[dataN['Q4'] == 'Donald Trump'].shape[0], '\\t',round(dataN[dataN['Q4'] == 'Donald Trump'].shape[0]/Ntotal,1))\n",
    "print('Hillary Clinton\\t\\t\\t', dataN[dataN['Q4'] == 'Hillary Clinton'].shape[0], '\\t',round(dataN[dataN['Q4'] == 'Hillary Clinton'].shape[0]/Ntotal,1))\n",
    "print('Other\\t\\t\\t\\t', dataN[dataN['Q4'] == 'Other'].shape[0], '\\t',round(dataN[dataN['Q4'] == 'Other'].shape[0]/Ntotal,1))\n",
    "print('Did not vote\\t\\t\\t', dataN[dataN['Q4'] == 'Did not vote'].shape[0], '\\t',round(dataN[dataN['Q4'] == 'Did not vote'].shape[0]/Ntotal,1))\n",
    "      \n",
    "      "
   ]
  },
  {
   "cell_type": "code",
   "execution_count": 7,
   "metadata": {
    "code_folding": [
     0
    ]
   },
   "outputs": [
    {
     "name": "stdout",
     "output_type": "stream",
     "text": [
      "\tDemographic Characteristics of Hispanic Sample\n",
      "\t\t\tNumber \tPercent\n",
      "Birthplace\n",
      "Born in US\t\t 685 \t 71.7\n",
      "Foreign Born\t\t 271 \t 28.3 \n",
      "\n",
      "Gender\n",
      "Male\t\t\t 452 \t 42.5\n",
      "Female\t\t\t 612 \t 57.5 \n",
      "\n",
      "Language\n",
      "Spanish\t\t\t 155 \t 14.4\n",
      "English\t\t\t 925 \t 85.6 \n",
      "\n",
      "Years in US\n",
      "5 or fewer years\t 94 \t 8.8\n",
      "6-10 years\t\t 66 \t 6.2\n",
      "11+ years\t\t 907 \t 85.0 \n",
      "\n",
      "Know Undocumented?\n",
      "Undocumented\t\t 590 \t 55.4\n",
      "Don't Know\t\t 475 \t 44.6 \n",
      "\n",
      "Age\n",
      "18-30 years old\t\t 416 \t 39.0\n",
      "31-50 years old\t\t 429 \t 40.2\n",
      "51+ years old\t\t 222 \t 20.8 \n",
      "\n",
      "Vote in 2016 Election\n",
      "Donald Trump\t\t 201 \t 18.9\n",
      "Hillary Clinton\t\t 440 \t 41.3\n",
      "Other\t\t\t 108 \t 10.1\n",
      "Did Not Vote\t\t 317 \t 29.7\n"
     ]
    }
   ],
   "source": [
    "#Demographic Characteristics of Survey 2 (Hispanic Sample)\n",
    "print('\\tDemographic Characteristics of Hispanic Sample')\n",
    "print('\\t\\t\\tNumber', '\\tPercent')\n",
    "B = dataH[dataH['BornInUS'] == 1].shape[0]\n",
    "NB = dataH[dataH['BornInUS'] == 0].shape[0]\n",
    "print('Birthplace')\n",
    "print('Born in US\\t\\t', B, '\\t', round((B/(B + NB))*100,1))\n",
    "print('Foreign Born\\t\\t', NB,'\\t', round((NB/(B + NB))*100,1), '\\n')\n",
    "\n",
    "M = dataH[dataH['Sex1'] == 'Male'].shape[0]\n",
    "F = dataH[dataH['Sex1'] == 'Female'].shape[0]\n",
    "print('Gender')\n",
    "print('Male\\t\\t\\t', M, '\\t', round((M/(M + F))*100,1))\n",
    "print('Female\\t\\t\\t', F,'\\t', round((F/(M + F))*100,1), '\\n')\n",
    "\n",
    "S = dataH[dataH['Language'] == 'ES'].shape[0]\n",
    "E = dataH[dataH['Language'] == 'EN'].shape[0]\n",
    "print('Language')\n",
    "print('Spanish\\t\\t\\t', S, '\\t', round((S/(S + E))*100,1))\n",
    "print('English\\t\\t\\t', E,'\\t', round((E/(S + E))*100,1), '\\n')\n",
    "\n",
    "LY = dataH[dataH['yearsInUS'] == 1].shape[0]\n",
    "MY = dataH[dataH['yearsInUS'] == 2].shape[0]\n",
    "HY = dataH[(dataH['yearsInUS'] == 3) | (dataH['yearsInUS'] == 4) | (dataH['yearsInUS'] == 5)].shape[0]\n",
    "print('Years in US')\n",
    "print('5 or fewer years\\t', LY, '\\t', round((LY/(LY+MY+HY))*100,1))\n",
    "print('6-10 years\\t\\t', MY, '\\t', round((MY/(LY+MY+HY))*100,1))\n",
    "print('11+ years\\t\\t', HY, '\\t', round((HY/(LY+MY+HY))*100,1), '\\n')\n",
    "\n",
    "K = dataH[dataH['knowUndocumented'] == 1].shape[0]\n",
    "DK = dataH[dataH['knowUndocumented'] == 0].shape[0]\n",
    "print('Know Undocumented?')\n",
    "print('Undocumented\\t\\t', K, '\\t', round((K/(K + DK))*100,1))\n",
    "print('Don\\'t Know\\t\\t', DK,'\\t', round((DK/(K + DK))*100,1), '\\n')\n",
    "\n",
    "LA = dataH[(dataH['AgeOrig'] == '18-24') | (dataH['AgeOrig'] == '25-30')].shape[0]\n",
    "MA = dataH[(dataH['AgeOrig'] == '31-40') | (dataH['AgeOrig'] == '41-50')].shape[0]\n",
    "HA = dataH[(dataH['AgeOrig'] == '51-60') | (dataH['AgeOrig'] == '61+')].shape[0]\n",
    "print('Age')\n",
    "print('18-30 years old\\t\\t', LA, '\\t', round((LA/(LA + MA + HA))*100,1))\n",
    "print('31-50 years old\\t\\t', MA, '\\t', round((MA/(LA + MA + HA))*100,1))\n",
    "print('51+ years old\\t\\t', HA,'\\t', round((HA/(LA + MA + HA))*100,1), '\\n')\n",
    "\n",
    "VT = dataH[dataH['Vote'] == 'Trump'].shape[0]\n",
    "VC = dataH[dataH['Vote'] == 'Clinton'].shape[0]\n",
    "VO = dataH[dataH['Vote'] == 'Other'].shape[0]\n",
    "NV = dataH[dataH['Vote'] == 'Did Not Vote'].shape[0]\n",
    "print('Vote in 2016 Election')\n",
    "print('Donald Trump\\t\\t', VT, '\\t', round((VT/(VT+VC+VO+NV)*100),1))\n",
    "print('Hillary Clinton\\t\\t', VC, '\\t', round((VC/(VT+VC+VO+NV)*100),1))\n",
    "print('Other\\t\\t\\t', VO, '\\t', round((VO/(VT+VC+VO+NV)*100),1))\n",
    "print('Did Not Vote\\t\\t', NV, '\\t', round((NV/(VT+VC+VO+NV)*100),1))"
   ]
  },
  {
   "cell_type": "code",
   "execution_count": 8,
   "metadata": {
    "code_folding": [
     0
    ]
   },
   "outputs": [],
   "source": [
    "#Importance of Issue of Immigration Figure\n",
    "# ax6 = dataN['Q5_3'].plot(kind = 'hist', bins = 25, label = 'Mean = ' + str(round(dataN['Q5_3'].mean(),4)))\n",
    "# # ax6.set_title('Importance of the Issue of Immigration', fontsize = 14)\n",
    "# ax6.set_ylabel('Frequency',fontsize = 14)\n",
    "# ax6.set_facecolor('ghostwhite')\n",
    "# leg6 = ax6.legend(handlelength=0, handletextpad=0, fancybox=True, fontsize = 14)\n",
    "# for item in leg6.legendHandles:\n",
    "#     item.set_visible(False)\n",
    "# plt.savefig('importance.jpeg')"
   ]
  },
  {
   "cell_type": "code",
   "execution_count": 9,
   "metadata": {
    "code_folding": [
     0
    ]
   },
   "outputs": [
    {
     "name": "stdout",
     "output_type": "stream",
     "text": [
      "In general, do you believe illegal immigrants with the following characteristics should be allowed to stay in the US, or should they be deported?\n",
      "\t\t\t\tShould be deported\tShould be allowed to stay in US\n",
      "Have Children Born in the US\t 167 32.5 \t\t 347 67.5 \n",
      "\n",
      "Have Lived in the US 5 years\t 187 36.4 \t\t 327 63.6\n",
      "or more\n",
      "Are currently employed in the\t 192 37.4 \t\t 322 62.6\n",
      "US\n",
      "Are attending college or\t 183 35.6 \t\t 331 64.4\n",
      "advance schooling in the US\n",
      "Came to the US as children\t 116 22.6 \t\t 398 77.4 \n",
      "\n",
      "Are under the age of 18\t\t 149 29.0 \t\t 365 71.0 \n",
      "\n",
      "Have been convicted of a\t 462 89.9 \t\t 52 10.1\n",
      "serious crime in the US\n",
      "Do not speak English\t\t 234 45.5 \t\t 280 54.5\n"
     ]
    }
   ],
   "source": [
    "#Summary of Deport/Don't Deport Questions\n",
    "print('In general, do you believe illegal immigrants with the following characteristics should be allowed to stay in the US, or should they be deported?')\n",
    "print('\\t\\t\\t\\tShould be deported\\tShould be allowed to stay in US')\n",
    "\n",
    "D1 = dataN[dataN['I9#1_1'] == 'Should be deported'].shape[0]\n",
    "ND1 = dataN[dataN['I9#1_1'] == 'Should be allowed to stay in US'].shape[0]\n",
    "print('Have Children Born in the US\\t', D1, round(D1/Ntotal,1), '\\t\\t', ND1, round(ND1/Ntotal,1),'\\n')\n",
    "\n",
    "D2 = dataN[dataN['I9#1_2'] == 'Should be deported'].shape[0]\n",
    "ND2 = dataN[dataN['I9#1_2'] == 'Should be allowed to stay in US'].shape[0]\n",
    "print('Have Lived in the US 5 years\\t', D2, round(D2/Ntotal,1), '\\t\\t', ND2, round(ND2/Ntotal,1))\n",
    "print('or more')\n",
    "\n",
    "D3 = dataN[dataN['I9#1_3'] == 'Should be deported'].shape[0]\n",
    "ND3 = dataN[dataN['I9#1_3'] == 'Should be allowed to stay in US'].shape[0]\n",
    "print('Are currently employed in the\\t', D3, round(D3/Ntotal,1), '\\t\\t', ND3, round(ND3/Ntotal,1))\n",
    "print('US')\n",
    "\n",
    "D4 = dataN[dataN['I9#1_4'] == 'Should be deported'].shape[0]\n",
    "ND4 = dataN[dataN['I9#1_4'] == 'Should be allowed to stay in US'].shape[0]\n",
    "print('Are attending college or\\t', D4, round(D4/Ntotal,1), '\\t\\t', ND4, round(ND4/Ntotal,1))\n",
    "print('advance schooling in the US')\n",
    "\n",
    "D5 = dataN[dataN['I9#1_5'] == 'Should be deported'].shape[0]\n",
    "ND5 = dataN[dataN['I9#1_5'] == 'Should be allowed to stay in US'].shape[0]\n",
    "print('Came to the US as children\\t', D5, round(D5/Ntotal,1), '\\t\\t', ND5, round(ND5/Ntotal,1),'\\n')\n",
    "\n",
    "D6 = dataN[dataN['I9#1_6'] == 'Should be deported'].shape[0]\n",
    "ND6 = dataN[dataN['I9#1_6'] == 'Should be allowed to stay in US'].shape[0]\n",
    "print('Are under the age of 18\\t\\t', D6, round(D6/Ntotal,1), '\\t\\t', ND6, round(ND6/Ntotal,1),'\\n')\n",
    "\n",
    "D7 = dataN[dataN['I9#1_7'] == 'Should be deported'].shape[0]\n",
    "ND7 = dataN[dataN['I9#1_7'] == 'Should be allowed to stay in US'].shape[0]\n",
    "print('Have been convicted of a\\t', D7, round(D7/Ntotal,1), '\\t\\t', ND7, round(ND7/Ntotal,1))\n",
    "print('serious crime in the US')\n",
    "\n",
    "D8 = dataN[dataN['I9#1_8'] == 'Should be deported'].shape[0]\n",
    "ND8 = dataN[dataN['I9#1_8'] == 'Should be allowed to stay in US'].shape[0]\n",
    "print('Do not speak English\\t\\t', D8, round(D8/Ntotal,1), '\\t\\t', ND8, round(ND8/Ntotal,1))\n",
    "\n"
   ]
  },
  {
   "cell_type": "code",
   "execution_count": 10,
   "metadata": {
    "code_folding": [
     0
    ]
   },
   "outputs": [
    {
     "name": "stdout",
     "output_type": "stream",
     "text": [
      "Carlos is an illegal immigrant who came to the US from Guatemala 3 months ago. He currently lives with his cousins in California where he works in construction. Carlos is 25 years old and speaks limited English.\n",
      "Should Carlos be deported?\n",
      "Yes\t\t 269 52.3\n",
      "No\t\t 245 47.7 \n",
      "\n",
      "Enrique and his wife Carla are illegal immigrants who came to the US from Mexico with their two children, ages 6 and 8. Since coming to the US 12 years ago, Enrique and Carla have started their own restaurant and have had another child, who is a US citizen. Their older two children now attend a local community college.\n",
      "Should Enrique and Carla be deported?\n",
      "Yes\t\t 151 29.4\n",
      "No\t\t 363 70.6 \n",
      "\n",
      "Enrique and Carla's oldest two children, Maria and Javier, were 6 and 8 years old when they were brought to the US 12 years ago. Both are illegal immigrants currently attending a community college in Oregon. Maria plans on becoming an engineer and Javier plans on becoming a doctor.\n",
      "Should Maria and Javier be deported?\n",
      "Yes\t\t 128 24.9\n",
      "No\t\t 386 75.1\n"
     ]
    }
   ],
   "source": [
    "#Summary of Personal Deport/Don't Deport Questions\n",
    "print('Carlos is an illegal immigrant who came to the US from Guatemala 3 months ago. He currently lives with his cousins in California where he works in construction. Carlos is 25 years old and speaks limited English.')\n",
    "print('Should Carlos be deported?')\n",
    "PD1 = dataN[dataN['I11'] == 'Yes'].shape[0]\n",
    "PND1 = dataN[dataN['I11'] == 'No'].shape[0]\n",
    "print('Yes\\t\\t', PD1, round(PD1/Ntotal,1))\n",
    "print('No\\t\\t', PND1, round(PND1/Ntotal,1),'\\n')\n",
    "\n",
    "print('Enrique and his wife Carla are illegal immigrants who came to the US from Mexico with their two children, ages 6 and 8. Since coming to the US 12 years ago, Enrique and Carla have started their own restaurant and have had another child, who is a US citizen. Their older two children now attend a local community college.')\n",
    "print('Should Enrique and Carla be deported?')\n",
    "PD2 = dataN[dataN['I12'] == 'Yes'].shape[0]\n",
    "PND2 = dataN[dataN['I12'] == 'No'].shape[0]\n",
    "print('Yes\\t\\t', PD2, round(PD2/Ntotal,1))\n",
    "print('No\\t\\t', PND2, round(PND2/Ntotal,1),'\\n')\n",
    "\n",
    "print('Enrique and Carla\\'s oldest two children, Maria and Javier, were 6 and 8 years old when they were brought to the US 12 years ago. Both are illegal immigrants currently attending a community college in Oregon. Maria plans on becoming an engineer and Javier plans on becoming a doctor.')\n",
    "print('Should Maria and Javier be deported?')\n",
    "PD3 = dataN[dataN['I13'] == 'Yes'].shape[0]\n",
    "PND3 = dataN[dataN['I13'] == 'No'].shape[0]\n",
    "print('Yes\\t\\t', PD3, round(PD3/Ntotal,1))\n",
    "print('No\\t\\t', PND3, round(PND3/Ntotal,1))\n",
    "\n"
   ]
  },
  {
   "cell_type": "code",
   "execution_count": 11,
   "metadata": {
    "code_folding": [
     0
    ]
   },
   "outputs": [],
   "source": [
    "# Holm-Bonferroni Multiple Comparisons Correction\n",
    "\n",
    "p_values = ([[0,0.00013465816481554761], [1,0.027532402600017145], [2,0.33311159753933695], [3,0.014988844566817892], \n",
    "             [4,0.33434619121041564], [5,0.25608034719160977], [6,0.10606223602223615], [7,0.7014537596799826],\n",
    "             [8,6.865705792561976e-19], [9,9.609778458806433e-22], [10,3.607052090092857e-21], [11,5.718617717236056e-21],\n",
    "             [12,4.091913244118564e-15], [13,1.0570388942961983e-19],  [14,0.9050212925293228], [15,5.422703078603426e-22],\n",
    "             [16,0.0066031661788276425], [17,3.9925749120539e-08], [18,1.4796391594295986e-37], [19,6.439293542825908e-15]])\n",
    "p_values.sort(key=lambda tup: tup[1]) \n",
    "for index, x in enumerate(p_values):\n",
    "    x.append(.05/(20 - index))\n",
    "p_values.sort(key=lambda tup: tup[0])\n"
   ]
  },
  {
   "cell_type": "code",
   "execution_count": 12,
   "metadata": {
    "code_folding": [
     0
    ]
   },
   "outputs": [],
   "source": [
    "#Ethnicity/Vote Table Functions\n",
    "\n",
    "White = dataN[dataN['Q3'] == 'Caucasian or White']\n",
    "NonWhite = dataN[dataN['Q3'] != 'Caucasian or White']\n",
    "\n",
    "Trump = dataN[dataN['Q4'] == 'Donald Trump']\n",
    "Clinton = dataN[dataN['Q4'] == 'Hillary Clinton']\n",
    "\n",
    "def table2(question, question1, question2, p_range):\n",
    "    significant = ''\n",
    "\n",
    "    W = White[White[question] == 'Should be deported'].shape[0]\n",
    "    NW = NonWhite[NonWhite[question] == 'Should be deported'].shape[0]\n",
    "    WN = White[White[question] == 'Should be allowed to stay in US'].shape[0]\n",
    "    NWN = NonWhite[NonWhite[question] == 'Should be allowed to stay in US'].shape[0]\n",
    "    WT = White.shape[0]/100\n",
    "    NWT = NonWhite.shape[0]/100\n",
    "    EthObs1 = np.array([[W,WN],[NW,NWN]])\n",
    "    obs = W + WN + NW + NWN\n",
    "    g, p, dof, expctd = st.chi2_contingency(EthObs1)\n",
    "    \n",
    "    if p < p_values[p_range][2]:\n",
    "        significant = '*'\n",
    "\n",
    "    print(question1, '\\tDeport\\t\\t', W, round(W/WT,1), '\\t', NW, round(NW/NWT,1), '\\t', p, '\\t', str(round(p_values[p_range][2],8)) + significant)\n",
    "    print(question2, '\\tAllow to Stay\\t', WN, round(WN/WT,1), '\\t', NWN, round(NWN/NWT,1),'\\t', '(' + str(g) + ')\\t', cramer(g,obs,dof), '\\n')\n",
    "    \n",
    "def table3(question, question1, question2, p_range):\n",
    "    significant = ''\n",
    "    \n",
    "    T = Trump[Trump[question] == 'Should be deported'].shape[0]\n",
    "    C = Clinton[Clinton[question] == 'Should be deported'].shape[0]\n",
    "    TN = Trump[Trump[question] == 'Should be allowed to stay in US'].shape[0]\n",
    "    CN = Clinton[Clinton[question] == 'Should be allowed to stay in US'].shape[0]\n",
    "    TT = Trump.shape[0]/100\n",
    "    CT = Clinton.shape[0]/100\n",
    "    obs = T + CN + TN + CN\n",
    "    VoteObs1 = np.array([[T,TN],[C,CN]])\n",
    "    g, p, dof, expctd = st.chi2_contingency(VoteObs1)\n",
    "\n",
    "    if p < p_values[p_range][2]:\n",
    "        significant = '*'\n",
    "    \n",
    "    print(question1, '\\tDeport\\t\\t', T, round(T/TT,1), '\\t', C, round(C/CT,1), '\\t', p, '\\t', str(round(p_values[p_range][2],8)) + significant)\n",
    "    print(question2, '\\tAllow to Stay\\t', TN, round(TN/TT,1), '\\t', CN, round(CN/CT,1),'\\t', '(' + str(g) + ')\\t', cramer(g,obs,dof), '\\n')\n",
    "\n",
    "    "
   ]
  },
  {
   "cell_type": "code",
   "execution_count": 13,
   "metadata": {
    "code_folding": [
     0
    ]
   },
   "outputs": [
    {
     "name": "stdout",
     "output_type": "stream",
     "text": [
      "Interpretation of Cramer's V (effect size)\n",
      "\n",
      "Degrees of freedom\t Small\t Medium\t Large\n",
      "\t 1 \t\t 0.1 \t 0.3 \t 0.5\n",
      "\t 2 \t\t 0.07 \t 0.21 \t 0.35\n",
      "\t 3 \t\t 0.06 \t 0.17 \t 0.29\n"
     ]
    }
   ],
   "source": [
    "#Cramer's V Interpretation\n",
    "#See: https://books.google.com/books?hl=en&lr=&id=rEe0BQAAQBAJ&oi=fnd&pg=PP1&ots=sv0UPsROt5&sig=ROlD_oGEODW9mSbPT7JQ4Mm7shc#v=onepage&q&f=false\n",
    "print('Interpretation of Cramer\\'s V (effect size)\\n')\n",
    "print('Degrees of freedom\\t', 'Small\\t', 'Medium\\t', 'Large')\n",
    "print('\\t',1,'\\t\\t', .1,'\\t', .3,'\\t', .5)\n",
    "print('\\t',2,'\\t\\t', .07,'\\t', .21,'\\t', .35)\n",
    "print('\\t',3,'\\t\\t', .06,'\\t', .17,'\\t', .29)\n"
   ]
  },
  {
   "cell_type": "code",
   "execution_count": 14,
   "metadata": {
    "code_folding": [
     0
    ]
   },
   "outputs": [
    {
     "name": "stdout",
     "output_type": "stream",
     "text": [
      "In general, do you believe illegal immigrants with the following characteristics should be allowed to stay in the US, or should they be deported?\n",
      "\t\t\t\t\tWhite\t\tNon-White\tChi-Squared p-value/\tHolm-Bonf. Alpha/\n",
      "\t\t\t\t\t\t\t\t\t(test statistic)\t Cramer's V\n",
      "Have Children\t \tDeport\t\t 144 37.1 \t 23 18.3 \t 0.00013465816481554761 \t 0.005*\n",
      "Born in the US\t \tAllow to Stay\t 244 62.9 \t 103 81.7 \t (14.575440710864493)\t 0.1683950371671859 \n",
      "\n",
      "Have Lived in the \tDeport\t\t 152 39.2 \t 35 27.8 \t 0.027532402600017145 \t 0.00714286\n",
      "US 5 years or more \tAllow to Stay\t 236 60.8 \t 91 72.2 \t (4.857110980400878)\t 0.09720921899485284 \n",
      "\n",
      "Are currently employed \tDeport\t\t 150 38.7 \t 42 33.3 \t 0.33311159753933695 \t 0.0125\n",
      "in the US\t \tAllow to Stay\t 238 61.3 \t 84 66.7 \t (0.936763427769199)\t 0.04269071258699264 \n",
      "\n",
      "Are attending college \tDeport\t\t 150 38.7 \t 33 26.2 \t 0.014988844566817892 \t 0.00625\n",
      "in the US\t \tAllow to Stay\t 238 61.3 \t 93 73.8 \t (5.917778630999711)\t 0.10729952468698971 \n",
      "\n",
      "Came to the US\t \tDeport\t\t 92 23.7 \t 24 19.0 \t 0.33434619121041564 \t 0.01666667\n",
      "as children\t \tAllow to Stay\t 296 76.3 \t 102 81.0 \t (0.9319906438123382)\t 0.04258181970377387 \n",
      "\n",
      "Are under the\t \tDeport\t\t 118 30.4 \t 31 24.6 \t 0.25608034719160977 \t 0.01\n",
      "age of 18\t \tAllow to Stay\t 270 69.6 \t 95 75.4 \t (1.2898242200273158)\t 0.0500937684954575 \n",
      "\n",
      "Have been convicted \tDeport\t\t 354 91.2 \t 108 85.7 \t 0.10606223602223615 \t 0.00833333\n",
      "of a serious crime \tAllow to Stay\t 34 8.8 \t 18 14.3 \t (2.61193558970621)\t 0.0712852491782219 \n",
      "\n",
      "Do not speak\t \tDeport\t\t 179 46.1 \t 55 43.7 \t 0.7014537596799826 \t 0.025\n",
      "English\t\t \tAllow to Stay\t 209 53.9 \t 71 56.3 \t (0.1469639564125939)\t 0.016909231034790608 \n",
      "\n"
     ]
    }
   ],
   "source": [
    "#Ethnicity Tables\n",
    "print('In general, do you believe illegal immigrants with the following characteristics should be allowed to stay in the US, or should they be deported?')\n",
    "questions = [('I9#1_1','Have Children\\t', 'Born in the US\\t'),('I9#1_2','Have Lived in the', 'US 5 years or more'),('I9#1_3','Are currently employed', 'in the US\\t'),('I9#1_4','Are attending college', 'in the US\\t'),('I9#1_5','Came to the US\\t', 'as children\\t'),('I9#1_6','Are under the\\t', 'age of 18\\t'),('I9#1_7','Have been convicted', 'of a serious crime'),('I9#1_8','Do not speak\\t', 'English\\t\\t')]\n",
    "print('\\t\\t\\t\\t\\tWhite\\t\\tNon-White\\tChi-Squared p-value/\\tHolm-Bonf. Alpha/') \n",
    "print('\\t\\t\\t\\t\\t\\t\\t\\t\\t(test statistic)\\t','Cramer\\'s V')\n",
    "for index, q in enumerate(questions):\n",
    "    table2(q[0],q[1],q[2],index)\n",
    "\n"
   ]
  },
  {
   "cell_type": "code",
   "execution_count": 15,
   "metadata": {
    "code_folding": [
     0
    ]
   },
   "outputs": [
    {
     "name": "stdout",
     "output_type": "stream",
     "text": [
      "In general, do you believe illegal immigrants with the following characteristics should be allowed to stay in the US, or should they be deported?\n",
      "\t\t\t\t\tTrump\t\tClinton\t\tChi-Squared p-value/\tHolm-Bonf. Alpha/\n",
      "\t\t\t\t\t\t\t\t\t(test statistic)\tCramer's V\n",
      "Have Children\t \tDeport\t\t 98 56.6 \t 24 12.4 \t 6.865705792561976e-19 \t 0.00357143*\n",
      "Born in the US\t \tAllow to Stay\t 75 43.4 \t 170 87.6 \t (78.80201341289552)\t 0.39193132382885254 \n",
      "\n",
      "Have Lived in the \tDeport\t\t 111 64.2 \t 29 14.9 \t 9.609778458806433e-22 \t 0.00277778*\n",
      "US 5 years or more \tAllow to Stay\t 62 35.8 \t 165 85.1 \t (91.79580866234659)\t 0.4271962517388173 \n",
      "\n",
      "Are currently employed \tDeport\t\t 113 65.3 \t 32 16.5 \t 3.607052090092857e-21 \t 0.00294118*\n",
      "in the US\t \tAllow to Stay\t 60 34.7 \t 162 83.5 \t (89.17873647148687)\t 0.42359659749273043 \n",
      "\n",
      "Are attending college \tDeport\t\t 108 62.4 \t 28 14.4 \t 5.718617717236056e-21 \t 0.003125*\n",
      "in the US\t \tAllow to Stay\t 65 37.6 \t 166 85.6 \t (88.26711933347893)\t 0.418074604487979 \n",
      "\n",
      "Came to the US\t \tDeport\t\t 77 44.5 \t 16 8.2 \t 4.091913244118564e-15 \t 0.00384615*\n",
      "as children\t \tAllow to Stay\t 96 55.5 \t 178 91.8 \t (61.655169958092664)\t 0.34139480927482935 \n",
      "\n",
      "Are under the\t \tDeport\t\t 95 54.9 \t 20 10.3 \t 1.0570388942961983e-19 \t 0.00333333*\n",
      "age of 18\t \tAllow to Stay\t 78 45.1 \t 174 89.7 \t (82.49936870516497)\t 0.39792978842583704 \n",
      "\n",
      "Have been convicted \tDeport\t\t 154 89.0 \t 173 89.2 \t 0.9050212925293228 \t 0.05\n",
      "of a serious crime \tAllow to Stay\t 19 11.0 \t 21 10.8 \t (0.014237427007608553)\t 0.008137603500605264 \n",
      "\n",
      "Do not speak\t \tDeport\t\t 130 75.1 \t 47 24.2 \t 5.422703078603426e-22 \t 0.00263158*\n",
      "English\t\t \tAllow to Stay\t 43 24.9 \t 147 75.8 \t (92.92817410100167)\t 0.44608257774673116 \n",
      "\n"
     ]
    }
   ],
   "source": [
    "#Vote Tables\n",
    "print('In general, do you believe illegal immigrants with the following characteristics should be allowed to stay in the US, or should they be deported?')\n",
    "questions = [('I9#1_1','Have Children\\t', 'Born in the US\\t'),('I9#1_2','Have Lived in the', 'US 5 years or more'),('I9#1_3','Are currently employed', 'in the US\\t'),('I9#1_4','Are attending college', 'in the US\\t'),('I9#1_5','Came to the US\\t', 'as children\\t'),('I9#1_6','Are under the\\t', 'age of 18\\t'),('I9#1_7','Have been convicted', 'of a serious crime'),('I9#1_8','Do not speak\\t', 'English\\t\\t')]\n",
    "print('\\t\\t\\t\\t\\tTrump\\t\\tClinton\\t\\tChi-Squared p-value/\\tHolm-Bonf. Alpha/')  \n",
    "print('\\t\\t\\t\\t\\t\\t\\t\\t\\t(test statistic)\\tCramer\\'s V')\n",
    "for index, q in enumerate(questions):\n",
    "    table3(q[0],q[1],q[2], index + 8)\n"
   ]
  },
  {
   "cell_type": "code",
   "execution_count": 16,
   "metadata": {
    "code_folding": [
     0
    ]
   },
   "outputs": [],
   "source": [
    "#Ethnicity/Vote Table Functions2\n",
    "\n",
    "def table4(question):\n",
    "    W = White[White[question] == 'Yes'].shape[0]\n",
    "    NW = NonWhite[NonWhite[question] == 'Yes'].shape[0]\n",
    "    WN = White[White[question] == 'No'].shape[0]\n",
    "    NWN = NonWhite[NonWhite[question] == 'No'].shape[0]\n",
    "    WT = White.shape[0]/100\n",
    "    NWT = NonWhite.shape[0]/100\n",
    "    EthnObs2 = np.array([[W,WN],[NW,NWN]])\n",
    "    g, p, dof, expctd = st.chi2_contingency(EthnObs2)\n",
    "    print('\\t\\tWhite\\t\\tNon-White\\tChi-Squared p-value')     \n",
    "    print('Yes\\t\\t', W, round(W/WT,1), '\\t', NW, round(NW/NWT,1), '\\t', round(p,8))\n",
    "    print('No\\t\\t', WN, round(WN/WT,1), '\\t', NWN, round(NWN/NWT,1), '\\n')\n",
    "    \n",
    "def table5(question):\n",
    "    T = Trump[Trump[question] == 'Yes'].shape[0]\n",
    "    C = Clinton[Clinton[question] == 'Yes'].shape[0]\n",
    "    TN = Trump[Trump[question] == 'No'].shape[0]\n",
    "    CN = Clinton[Clinton[question] == 'No'].shape[0]\n",
    "    TT = Trump.shape[0]/100\n",
    "    CT = Clinton.shape[0]/100\n",
    "    VoteObs2 = np.array([[T,TN],[C,CN]])\n",
    "    g, p, dof, expctd = st.chi2_contingency(VoteObs2)\n",
    "    print('\\t\\tTrump\\t\\tClinton\\t\\tChi-Squared p-value')      \n",
    "    print('Yes\\t\\t', T, round(T/TT,1), '\\t', C, round(C/CT,1), '\\t', round(p,8))\n",
    "    print('No\\t\\t', TN, round(TN/TT,1), '\\t', CN, round(CN/CT,1), '\\n')"
   ]
  },
  {
   "cell_type": "code",
   "execution_count": 17,
   "metadata": {
    "code_folding": [
     0
    ],
    "scrolled": false
   },
   "outputs": [
    {
     "name": "stdout",
     "output_type": "stream",
     "text": [
      "\t\"Generally, all illegal immigrants should be deported\" by demographic characteristics\n",
      "\t\t\tDeport\t\tDon't Deport\t\tChi-Squared p-value/\t\tHolm-Bonf. Alpha/\n",
      "\t\t\t\t\t\t\t\t(test statistic)\t\tCramer's V\n",
      "Male\t\t\t 173 39.1 \t 270 60.9 \t\t 0.0066031661788276425 \t\t 0.00555556\n",
      "Female\t\t\t 185 30.8 \t 416 69.2 \t\t (7.377860934508783)\t\t 0.08364775629154389 \n",
      "\n",
      "18-30 years old\t\t 108 26.3 \t 302 73.7 \t\t 3.9925749120539e-08 \t\t 0.00454545*\n",
      "31-50 years old\t\t 142 33.9 \t 277 66.1 \t\t (34.072488759653794)\t\t 0.12692667487769857\n",
      "51+ years old\t\t 108 49.5 \t 110 50.5 \t\tdf: 2 \n",
      "\n",
      "Trump\t\t\t 145 74.0 \t 51 26.0 \t\t 1.4796391594295986e-37 \t 0.0025*\n",
      "Clinton\t\t\t 93 21.3 \t 343 78.7 \t\t (174.32843423262727)\t\t 0.2345292194804173\n",
      "Other\t\t\t 33 30.8 \t 74 69.2 \t\tdf: 3\n",
      "Did Not Vote\t\t 88 28.7 \t 219 71.3 \n",
      "\n",
      "Total\t\t\t 360 34.3 \t 689 65.7 \t\t 1049.0\n"
     ]
    }
   ],
   "source": [
    "#Generally, all illegal immigrants should be deported by demographic characteristics\n",
    "print('\\t\\\"Generally, all illegal immigrants should be deported\\\" by demographic characteristics')\n",
    "print('\\t\\t\\tDeport\\t\\tDon\\'t Deport\\t\\tChi-Squared p-value/\\t\\tHolm-Bonf. Alpha/')\n",
    "print('\\t\\t\\t\\t\\t\\t\\t\\t(test statistic)\\t\\tCramer\\'s V')\n",
    "BornUS = dataH[dataH['BornInUS'] == 1]\n",
    "BornForeign = dataH[dataH['BornInUS'] == 0]\n",
    "Male1 = dataH[dataH['Sex1'] == 'Male']\n",
    "Female1 = dataH[dataH['Sex1'] == 'Female']\n",
    "Spanish = dataH[dataH['Language'] == 'ES']\n",
    "English = dataH[dataH['Language'] == 'EN']\n",
    "Lyears = dataH[dataH['yearsInUS'] == 1]\n",
    "Myears = dataH[dataH['yearsInUS'] == 2]\n",
    "Hyears = dataH[(dataH['yearsInUS'] == 3) | (dataH['yearsInUS'] == 4) | (dataH['yearsInUS'] == 5)]\n",
    "know = dataH[dataH['knowUndocumented'] == 1]\n",
    "NoKnow = dataH[dataH['knowUndocumented'] == 0]\n",
    "Lage = dataH[(dataH['AgeOrig'] == '18-24') | (dataH['AgeOrig'] == '25-30')] \n",
    "Mage = dataH[(dataH['AgeOrig'] == '31-40') | (dataH['AgeOrig'] == '41-50')]\n",
    "Hage = dataH[(dataH['AgeOrig'] == '51-60') | (dataH['AgeOrig'] == '61+')]\n",
    "Trump1 = dataH[dataH['Vote'] == 'Trump']\n",
    "Clinton1 = dataH[dataH['Vote'] == 'Clinton']\n",
    "OtherH = dataH[dataH['Vote'] == 'Other']\n",
    "NoVote1 = dataH[dataH['Vote'] == 'Did Not Vote']\n",
    "\n",
    "\n",
    "M1 = Male1[Male1['deportIllegal'] == 1].shape[0]\n",
    "M1N = Male1[Male1['deportIllegal'] == 0].shape[0]\n",
    "M1T = Male1.dropna(subset=['deportIllegal']).shape[0]/100\n",
    "F1 = Female1[Female1['deportIllegal'] == 1].shape[0]\n",
    "F1N = Female1[Female1['deportIllegal'] == 0].shape[0]\n",
    "F1T = Female1.dropna(subset=['deportIllegal']).shape[0]/100\n",
    "GenderObs1 = np.array([[M1,M1N],[F1,F1N]])\n",
    "g, p, dof, expctd = st.chi2_contingency(GenderObs1)\n",
    "obs = M1 + M1N + M1T + F1 + F1N + F1T\n",
    "significant = ''\n",
    "if p < p_values[16][2]:\n",
    "    significant = '*'\n",
    "print('Male\\t\\t\\t', M1, round(M1/M1T,1), '\\t', M1N, round(M1N/M1T,1), '\\t\\t', p, '\\t\\t', str(round(p_values[16][2],8)) + significant)\n",
    "print('Female\\t\\t\\t', F1, round(F1/F1T,1), '\\t', F1N, round(F1N/F1T,1),'\\t\\t', '(' + str(g) + ')\\t\\t', cramer(g, obs, dof),'\\n')\n",
    "\n",
    "\n",
    "LA = Lage[Lage['deportIllegal'] == 1].shape[0]\n",
    "LAN = Lage[Lage['deportIllegal'] == 0].shape[0]\n",
    "LAT = Lage.dropna(subset=['deportIllegal']).shape[0]/100\n",
    "MA = Mage[Mage['deportIllegal'] == 1].shape[0]\n",
    "MAN = Mage[Mage['deportIllegal'] == 0].shape[0]\n",
    "MAT = Mage.dropna(subset=['deportIllegal']).shape[0]/100\n",
    "HA = Hage[Hage['deportIllegal'] == 1].shape[0]\n",
    "HAN = Hage[Hage['deportIllegal'] == 0].shape[0]\n",
    "HAT = Hage.dropna(subset=['deportIllegal']).shape[0]/100\n",
    "AgeObs = np.array([[LA,LAN],[MA,MAN],[HA,HAN]])\n",
    "g, p, dof, expctd = st.chi2_contingency(AgeObs)\n",
    "obs = LA + LAN + LAT + MA + MAN + MAT + HA + HAN + HAT\n",
    "significant = ''\n",
    "if p < p_values[17][2]:\n",
    "    significant = '*'\n",
    "print('18-30 years old\\t\\t', LA, round(LA/LAT,1), '\\t', LAN, round(LAN/LAT,1), '\\t\\t', p, '\\t\\t', str(round(p_values[17][2],8)) + significant)\n",
    "print('31-50 years old\\t\\t', MA, round(MA/MAT,1), '\\t', MAN, round(MAN/MAT,1), '\\t\\t', '(' + str(g) + ')\\t\\t', cramer(g, obs, dof))\n",
    "print('51+ years old\\t\\t', HA, round(HA/HAT,1), '\\t', HAN, round(HAN/HAT,1), '\\t\\tdf:', dof, '\\n')\n",
    "\n",
    "T1 = Trump1[Trump1['deportIllegal'] == 1].shape[0]\n",
    "C1 = Clinton1[Clinton1['deportIllegal'] == 1].shape[0]\n",
    "OH = OtherH[OtherH['deportIllegal'] == 1].shape[0]\n",
    "NV1 = NoVote1[NoVote1['deportIllegal'] == 1].shape[0]\n",
    "T1N = Trump1[Trump1['deportIllegal'] == 0].shape[0]\n",
    "C1N = Clinton1[Clinton1['deportIllegal'] == 0].shape[0]\n",
    "OHN = OtherH[OtherH['deportIllegal'] == 0].shape[0]\n",
    "NV1N = NoVote1[NoVote1['deportIllegal'] == 0].shape[0]\n",
    "T1T = Trump1.dropna(subset=['deportIllegal']).shape[0]/100\n",
    "C1T = Clinton1.dropna(subset=['deportIllegal']).shape[0]/100\n",
    "OHT = OtherH.dropna(subset=['deportIllegal']).shape[0]/100\n",
    "NV1T = NoVote1.dropna(subset=['deportIllegal']).shape[0]/100\n",
    "VoteObs1 = np.array([[T1,T1N],[C1,C1N],[OH,OHN],[NV1,NV1N]])\n",
    "g, p, dof, expctd = st.chi2_contingency(VoteObs1)\n",
    "obs = T1 + C1 + OH + NV1 + T1N + C1N + OHN + NV1N + T1T + C1T + OHT + NV1T\n",
    "significant = ''\n",
    "if p < p_values[18][2]:\n",
    "    significant = '*'\n",
    "print('Trump\\t\\t\\t', T1, round(T1/T1T,1), '\\t', T1N, round(T1N/T1T,1), '\\t\\t', p, '\\t', str(round(p_values[18][2],8)) + significant)\n",
    "print('Clinton\\t\\t\\t', C1, round(C1/C1T,1), '\\t', C1N, round(C1N/C1T,1), '\\t\\t', '(' + str(g) + ')\\t\\t', cramer(g,obs,dof))\n",
    "print('Other\\t\\t\\t', OH, round(OH/OHT,1), '\\t', OHN, round(OHN/OHT,1), '\\t\\tdf:', dof)\n",
    "print('Did Not Vote\\t\\t', NV1, round(NV1/NV1T,1), '\\t', NV1N, round(NV1N/NV1T,1), '\\n')\n",
    "Total = dataH[dataH['deportIllegal'] == 1].shape[0]\n",
    "TotalN = dataH[dataH['deportIllegal'] == 0].shape[0] \n",
    "TotalT = dataH.dropna(subset=['deportIllegal']).shape[0]/100\n",
    "print('Total\\t\\t\\t', Total, round(Total/TotalT,1), '\\t', TotalN, round(TotalN/TotalT,1), '\\t\\t', TotalT*100)\n",
    "\n"
   ]
  },
  {
   "cell_type": "code",
   "execution_count": 18,
   "metadata": {},
   "outputs": [],
   "source": [
    "# Cohen's d (effect size for difference in means), \n",
    "#See: http://onlinestatbook.com/2/effect_size/two_means.html#:~:text=Effect%20Size%3A%20Difference%20Between%20Two%20Means&text=When%20the%20units%20of%20a,interpretable%20measure%20of%20effect%20size.\n",
    "#\"effect size is measured in terms of the number of standard deviations the means differ by\""
   ]
  },
  {
   "cell_type": "code",
   "execution_count": 19,
   "metadata": {
    "code_folding": [
     0
    ]
   },
   "outputs": [
    {
     "name": "stdout",
     "output_type": "stream",
     "text": [
      "Since the campaign and election of Donald Trump, do you feel levels of discrimination towards Latinos/Hispanics have increased?\n",
      "Hispanic Sample Mean: 5.257\n",
      "Non-Hispanic Sample Mean: 4.3849\n",
      "Difference-in-means p value: 6.439293542825908e-15\n",
      "Difference-in-means test statistic: 8.01646337173131\n",
      "Holm-Bonferroni Corrected Alpha: 0.004166666666666667*\n",
      "Cohen's d: 0.44323192486357693\n"
     ]
    }
   ],
   "source": [
    "#Compare two samples on discrimination question\n",
    "#Caucasian or White, Hispanic or Latino, Asian, African American or Black, Native American or American Indian, Other\n",
    "t_stat, p, cohen = ttest(dataH.dropna(subset=['TrumpDiscrimination'])['TrumpDiscrimination'],dataN[dataN['Q3'] != 'Hispanic or Latino']['I14_1'])\n",
    "print('Since the campaign and election of Donald Trump, do you feel levels of discrimination towards Latinos/Hispanics have increased?')\n",
    "print('Hispanic Sample Mean:', round(dataH.dropna(subset=['TrumpDiscrimination'])['TrumpDiscrimination'].mean(),4))\n",
    "print('Non-Hispanic Sample Mean:',round(dataN[dataN['Q3'] != 'Hispanic or Latino']['I14_1'].mean(),4))\n",
    "print('Difference-in-means p value:', p)\n",
    "print('Difference-in-means test statistic:', t_stat)\n",
    "print('Holm-Bonferroni Corrected Alpha:', str(p_values[19][2])+'*')\n",
    "print('Cohen\\'s d:', cohen)\n"
   ]
  },
  {
   "cell_type": "code",
   "execution_count": null,
   "metadata": {},
   "outputs": [],
   "source": []
  }
 ],
 "metadata": {
  "kernelspec": {
   "display_name": "Python 3",
   "language": "python",
   "name": "python3"
  },
  "language_info": {
   "codemirror_mode": {
    "name": "ipython",
    "version": 3
   },
   "file_extension": ".py",
   "mimetype": "text/x-python",
   "name": "python",
   "nbconvert_exporter": "python",
   "pygments_lexer": "ipython3",
   "version": "3.8.2"
  }
 },
 "nbformat": 4,
 "nbformat_minor": 2
}
